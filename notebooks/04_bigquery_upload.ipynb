{
 "cells": [
  {
   "metadata": {},
   "cell_type": "code",
   "outputs": [],
   "execution_count": null,
   "source": [
    "# ------------------------------------------------------------\n",
    "# 04_bigquery_upload.ipynb — Authentication & Setup\n",
    "# ------------------------------------------------------------\n",
    "\n",
    "from google.cloud import bigquery\n",
    "from google.oauth2 import service_account\n",
    "import pandas as pd\n",
    "import os\n",
    "\n",
    "# Path to your service account key\n",
    "key_path = \"../credentials/monzo-data-uploader-d16b82e5caaf.json\"\n",
    "\n",
    "# Verify the file exists\n",
    "assert os.path.exists(key_path), \"❌ Key file not found. Please check the path.\""
   ],
   "id": "7e16368e0ce2799c"
  },
  {
   "metadata": {},
   "cell_type": "code",
   "outputs": [],
   "execution_count": null,
   "source": [
    "# Authenticate using the service account\n",
    "credentials = service_account.Credentials.from_service_account_file(key_path)\n",
    "project_id = \"monzo-data-uploader\"  # Your GCP project ID\n",
    "\n",
    "# Initialize the BigQuery client\n",
    "client = bigquery.Client(credentials=credentials, project=project_id)\n",
    "\n",
    "print(f\"✅ Successfully connected to BigQuery project: {project_id}\")\n"
   ],
   "id": "9beb5d88c9d6e9c4"
  },
  {
   "metadata": {},
   "cell_type": "code",
   "outputs": [],
   "execution_count": null,
   "source": [
    "# ------------------------------------------------------------\n",
    "# Upload warehouse tables to BigQuery\n",
    "# ------------------------------------------------------------\n",
    "from google.cloud import bigquery\n",
    "\n",
    "# DATA_DIR = \"../data/warehouse\"\n",
    "DATA_DIR = \"../data/warehouse_safe\"\n",
    "DATASETS = {\n",
    "    \"FactReviews\": f\"{DATA_DIR}/FactReviews.csv\",\n",
    "    \"DimPlatform\": f\"{DATA_DIR}/DimPlatform.csv\",\n",
    "    \"DimVersion\": f\"{DATA_DIR}/DimVersion.csv\",\n",
    "    \"DimDate\": f\"{DATA_DIR}/DimDate.csv\",\n",
    "    \"DimSentiment\": f\"{DATA_DIR}/DimSentiment.csv\"\n",
    "}\n",
    "\n",
    "# Create (or use existing) dataset\n",
    "dataset_id = f\"{project_id}.monzo_reviews\"\n",
    "dataset = bigquery.Dataset(dataset_id)\n",
    "dataset.location = \"europe-west2\"  # or 'US' depending on your region"
   ],
   "id": "22349857d89b0c82"
  },
  {
   "metadata": {},
   "cell_type": "code",
   "outputs": [],
   "execution_count": null,
   "source": [
    "try:\n",
    "    client.create_dataset(dataset)\n",
    "    print(f\"✅ Created dataset: {dataset_id}\")\n",
    "except Exception as e:\n",
    "    print(f\"⚠️ Dataset may already exist: {e}\")\n",
    "\n",
    "# Upload each table\n",
    "for table_name, csv_path in DATASETS.items():\n",
    "    table_id = f\"{dataset_id}.{table_name}\"\n",
    "    df = pd.read_csv(csv_path)\n",
    "\n",
    "    job_config = bigquery.LoadJobConfig(\n",
    "        autodetect=True,\n",
    "        source_format=bigquery.SourceFormat.CSV,\n",
    "        write_disposition=\"WRITE_TRUNCATE\",\n",
    "        skip_leading_rows=1,\n",
    "        field_delimiter=\",\",\n",
    "        quote_character=None,        # 🚨 disables quote enforcement\n",
    "        encoding=\"UTF-8\",\n",
    "        allow_quoted_newlines=True,  # ✅ allows line breaks inside reviews\n",
    "        ignore_unknown_values=True   # ✅ ignores extra commas or misquotes\n",
    "    )\n",
    "\n",
    "    with open(csv_path, \"rb\") as source_file:\n",
    "        job = client.load_table_from_file(source_file, table_id, job_config=job_config)\n",
    "\n",
    "    job.result()\n",
    "    print(f\"✅ Uploaded {table_name} → {table_id} ({len(df)} rows)\")\n"
   ],
   "id": "5bef11aceabce27"
  },
  {
   "metadata": {},
   "cell_type": "code",
   "outputs": [],
   "execution_count": null,
   "source": [
    "for table in client.list_tables(dataset_id):\n",
    "    print(f\"📊 {table.table_id}\")\n"
   ],
   "id": "681e90a3e18c2d0c"
  },
  {
   "metadata": {},
   "cell_type": "code",
   "outputs": [],
   "execution_count": null,
   "source": "",
   "id": "2171fca1cade4571"
  }
 ],
 "metadata": {},
 "nbformat": 5,
 "nbformat_minor": 9
}
