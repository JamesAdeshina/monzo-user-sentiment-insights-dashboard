{
 "cells": [
  {
   "metadata": {
    "ExecuteTime": {
     "end_time": "2025-10-05T21:12:03.229126Z",
     "start_time": "2025-10-05T21:12:03.215971Z"
    }
   },
   "cell_type": "code",
   "source": [
    "# ------------------------------------------------------------\n",
    "# 02. Sentiment Analysis Pipeline\n",
    "# ------------------------------------------------------------\n",
    "# Purpose: Compute sentiment polarity and categorical labels\n",
    "# Input: ../data/processed/Monzo_Reviews_Master.csv\n",
    "# Output: ../data/processed/Monzo_Sentiment_Scored.csv\n",
    "# Author: James O. Adeshina\n",
    "# Date: October 2025\n",
    "# ------------------------------------------------------------\n",
    "\n",
    "import pandas as pd\n",
    "from vaderSentiment.vaderSentiment import SentimentIntensityAnalyzer\n",
    "import matplotlib.pyplot as plt\n",
    "import seaborn as sns\n",
    "import numpy as np\n",
    "import os\n",
    "from datetime import datetime"
   ],
   "id": "c21c338ac1a72c0",
   "outputs": [],
   "execution_count": 1
  },
  {
   "metadata": {
    "ExecuteTime": {
     "end_time": "2025-10-05T21:39:09.233192Z",
     "start_time": "2025-10-05T21:39:03.209163Z"
    }
   },
   "cell_type": "code",
   "source": [
    "\n",
    "# === NLP & Sentiment ===\n",
    "from nltk.sentiment.vader import SentimentIntensityAnalyzer\n",
    "import nltk"
   ],
   "id": "d6773a61d7bb9668",
   "outputs": [],
   "execution_count": 11
  },
  {
   "metadata": {
    "ExecuteTime": {
     "end_time": "2025-10-05T21:30:16.206967Z",
     "start_time": "2025-10-05T21:30:16.157085Z"
    }
   },
   "cell_type": "code",
   "source": [
    "# Paths\n",
    "DATA_PATH = \"../data/processed/Monzo_Reviews_Master.csv\"\n",
    "EXPORT_PATH = \"../data/processed/Monzo_Sentiment_Scored.csv\"\n",
    "EXPORT_PARQUET = \"../data/processed/Monzo_Sentiment_Scored.parquet\""
   ],
   "id": "911228b5f345d312",
   "outputs": [],
   "execution_count": 7
  },
  {
   "metadata": {
    "ExecuteTime": {
     "end_time": "2025-10-05T21:30:18.347748Z",
     "start_time": "2025-10-05T21:30:17.423867Z"
    }
   },
   "cell_type": "code",
   "source": [
    "\n",
    "# Load dataset\n",
    "print(\"📂 Loading cleaned master dataset...\")\n",
    "monzo_df = pd.read_csv(DATA_PATH)\n",
    "print(f\"✅ Loaded {len(monzo_df):,} reviews across {monzo_df['platform'].nunique()} platforms.\")\n",
    "monzo_df.head(3)"
   ],
   "id": "7316da0bc9ff3def",
   "outputs": [
    {
     "name": "stdout",
     "output_type": "stream",
     "text": [
      "📂 Loading cleaned master dataset...\n",
      "✅ Loaded 32,223 reviews across 2 platforms.\n"
     ]
    },
    {
     "data": {
      "text/plain": [
       "                 review_date  rating               review_title  \\\n",
       "0  2025-10-01 06:03:52+00:00       5  Read this truthful review   \n",
       "1  2025-09-30 15:17:27+00:00       5  Cracking easy to use bank   \n",
       "2  2025-09-30 15:01:26+00:00       5             Monzo is great   \n",
       "\n",
       "                                         review_text          author_name  \\\n",
       "0  This banking app is the best for kids because ...  Thegamingmommyreviw   \n",
       "1  Don’t tend to use the perks other than get sue...               Kar3n2   \n",
       "2  The best bank I have ever use. It is honestly ...           Kira mella   \n",
       "\n",
       "  app_version country review_language developer_reply_text  \\\n",
       "0      6.46.0      gb              en                  NaN   \n",
       "1      6.46.0      gb              en                  NaN   \n",
       "2      6.46.0      gb              en                  NaN   \n",
       "\n",
       "  developer_reply_date platform  \n",
       "0                  NaN      iOS  \n",
       "1                  NaN      iOS  \n",
       "2                  NaN      iOS  "
      ],
      "text/html": [
       "<div>\n",
       "<style scoped>\n",
       "    .dataframe tbody tr th:only-of-type {\n",
       "        vertical-align: middle;\n",
       "    }\n",
       "\n",
       "    .dataframe tbody tr th {\n",
       "        vertical-align: top;\n",
       "    }\n",
       "\n",
       "    .dataframe thead th {\n",
       "        text-align: right;\n",
       "    }\n",
       "</style>\n",
       "<table border=\"1\" class=\"dataframe\">\n",
       "  <thead>\n",
       "    <tr style=\"text-align: right;\">\n",
       "      <th></th>\n",
       "      <th>review_date</th>\n",
       "      <th>rating</th>\n",
       "      <th>review_title</th>\n",
       "      <th>review_text</th>\n",
       "      <th>author_name</th>\n",
       "      <th>app_version</th>\n",
       "      <th>country</th>\n",
       "      <th>review_language</th>\n",
       "      <th>developer_reply_text</th>\n",
       "      <th>developer_reply_date</th>\n",
       "      <th>platform</th>\n",
       "    </tr>\n",
       "  </thead>\n",
       "  <tbody>\n",
       "    <tr>\n",
       "      <th>0</th>\n",
       "      <td>2025-10-01 06:03:52+00:00</td>\n",
       "      <td>5</td>\n",
       "      <td>Read this truthful review</td>\n",
       "      <td>This banking app is the best for kids because ...</td>\n",
       "      <td>Thegamingmommyreviw</td>\n",
       "      <td>6.46.0</td>\n",
       "      <td>gb</td>\n",
       "      <td>en</td>\n",
       "      <td>NaN</td>\n",
       "      <td>NaN</td>\n",
       "      <td>iOS</td>\n",
       "    </tr>\n",
       "    <tr>\n",
       "      <th>1</th>\n",
       "      <td>2025-09-30 15:17:27+00:00</td>\n",
       "      <td>5</td>\n",
       "      <td>Cracking easy to use bank</td>\n",
       "      <td>Don’t tend to use the perks other than get sue...</td>\n",
       "      <td>Kar3n2</td>\n",
       "      <td>6.46.0</td>\n",
       "      <td>gb</td>\n",
       "      <td>en</td>\n",
       "      <td>NaN</td>\n",
       "      <td>NaN</td>\n",
       "      <td>iOS</td>\n",
       "    </tr>\n",
       "    <tr>\n",
       "      <th>2</th>\n",
       "      <td>2025-09-30 15:01:26+00:00</td>\n",
       "      <td>5</td>\n",
       "      <td>Monzo is great</td>\n",
       "      <td>The best bank I have ever use. It is honestly ...</td>\n",
       "      <td>Kira mella</td>\n",
       "      <td>6.46.0</td>\n",
       "      <td>gb</td>\n",
       "      <td>en</td>\n",
       "      <td>NaN</td>\n",
       "      <td>NaN</td>\n",
       "      <td>iOS</td>\n",
       "    </tr>\n",
       "  </tbody>\n",
       "</table>\n",
       "</div>"
      ]
     },
     "execution_count": 8,
     "metadata": {},
     "output_type": "execute_result"
    }
   ],
   "execution_count": 8
  },
  {
   "metadata": {
    "ExecuteTime": {
     "end_time": "2025-10-05T21:30:22.459474Z",
     "start_time": "2025-10-05T21:30:22.393020Z"
    }
   },
   "cell_type": "code",
   "source": [
    "# ------------------------------------------------------------\n",
    "# 2. Prepare & Sanity Check Text Data\n",
    "# ------------------------------------------------------------\n",
    "# Drop any rows without text (safety check)\n",
    "monzo_df = monzo_df[monzo_df[\"review_text\"].notna()]\n",
    "\n",
    "# Basic stats\n",
    "print(f\"Remaining reviews: {len(monzo_df):,}\")\n",
    "print(\"Columns available:\", list(monzo_df.columns))\n",
    "\n",
    "# Check for duplicated reviews\n",
    "dup_count = monzo_df[\"review_text\"].duplicated().sum()\n",
    "print(f\"🔁 Duplicate review_text count: {dup_count}\")\n"
   ],
   "id": "ae127e8162ddac3b",
   "outputs": [
    {
     "name": "stdout",
     "output_type": "stream",
     "text": [
      "Remaining reviews: 32,222\n",
      "Columns available: ['review_date', 'rating', 'review_title', 'review_text', 'author_name', 'app_version', 'country', 'review_language', 'developer_reply_text', 'developer_reply_date', 'platform']\n",
      "🔁 Duplicate review_text count: 3950\n"
     ]
    }
   ],
   "execution_count": 9
  },
  {
   "metadata": {
    "ExecuteTime": {
     "end_time": "2025-10-05T21:16:36.495520Z",
     "start_time": "2025-10-05T21:16:36.035256Z"
    }
   },
   "cell_type": "code",
   "source": [
    "# ------------------------------------------------------------\n",
    "# 3A. Investigate Duplicate Reviews\n",
    "# ------------------------------------------------------------\n",
    "\n",
    "# Find duplicated text\n",
    "dupes = monzo_df[monzo_df[\"review_text\"].duplicated(keep=False)]\n",
    "\n",
    "print(f\"🔎 Found {len(dupes)} duplicate review texts (including repeats).\")\n",
    "\n",
    "# Check how many are exact duplicates across all columns\n",
    "exact_dupes = monzo_df.duplicated(subset=monzo_df.columns, keep=False).sum()\n",
    "print(f\"📦 Exact duplicates across all columns: {exact_dupes}\")\n",
    "\n",
    "# Quick sample — identical text across different platforms/dates\n",
    "sample_dupes = (\n",
    "    dupes.sort_values(\"review_text\")\n",
    "    .groupby(\"review_text\")\n",
    "    .head(2)\n",
    "    .sort_values(\"review_date\")\n",
    "    .head(10)\n",
    ")\n",
    "\n",
    "display(sample_dupes[[\"review_date\", \"rating\", \"review_text\", \"platform\"]])\n"
   ],
   "id": "e617bf171d36a020",
   "outputs": [
    {
     "name": "stdout",
     "output_type": "stream",
     "text": [
      "🔎 Found 4598 duplicate review texts (including repeats).\n",
      "📦 Exact duplicates across all columns: 0\n"
     ]
    },
    {
     "data": {
      "text/plain": [
       "                     review_date  rating      review_text platform\n",
       "12231  2016-10-10 15:56:37+00:00       5  So far so good!  Android\n",
       "12227  2016-10-10 21:57:31+00:00       5                😍  Android\n",
       "12223  2016-10-11 05:55:18+00:00       5         Good job  Android\n",
       "12092  2016-12-06 13:45:54+00:00       5        Very Good  Android\n",
       "12091  2016-12-06 14:26:06+00:00       5    Excellent App  Android\n",
       "12006  2017-02-04 13:36:19+00:00       5       Amazing!!!  Android\n",
       "11915  2017-04-11 16:46:36+00:00       5         Awesome!  Android\n",
       "11892  2017-04-24 10:48:35+00:00       5       Fantastic!  Android\n",
       "11883  2017-05-02 10:29:17+00:00       5            Class  Android\n",
       "11854  2017-05-22 19:43:29+00:00       5       Great app!  Android"
      ],
      "text/html": [
       "<div>\n",
       "<style scoped>\n",
       "    .dataframe tbody tr th:only-of-type {\n",
       "        vertical-align: middle;\n",
       "    }\n",
       "\n",
       "    .dataframe tbody tr th {\n",
       "        vertical-align: top;\n",
       "    }\n",
       "\n",
       "    .dataframe thead th {\n",
       "        text-align: right;\n",
       "    }\n",
       "</style>\n",
       "<table border=\"1\" class=\"dataframe\">\n",
       "  <thead>\n",
       "    <tr style=\"text-align: right;\">\n",
       "      <th></th>\n",
       "      <th>review_date</th>\n",
       "      <th>rating</th>\n",
       "      <th>review_text</th>\n",
       "      <th>platform</th>\n",
       "    </tr>\n",
       "  </thead>\n",
       "  <tbody>\n",
       "    <tr>\n",
       "      <th>12231</th>\n",
       "      <td>2016-10-10 15:56:37+00:00</td>\n",
       "      <td>5</td>\n",
       "      <td>So far so good!</td>\n",
       "      <td>Android</td>\n",
       "    </tr>\n",
       "    <tr>\n",
       "      <th>12227</th>\n",
       "      <td>2016-10-10 21:57:31+00:00</td>\n",
       "      <td>5</td>\n",
       "      <td>😍</td>\n",
       "      <td>Android</td>\n",
       "    </tr>\n",
       "    <tr>\n",
       "      <th>12223</th>\n",
       "      <td>2016-10-11 05:55:18+00:00</td>\n",
       "      <td>5</td>\n",
       "      <td>Good job</td>\n",
       "      <td>Android</td>\n",
       "    </tr>\n",
       "    <tr>\n",
       "      <th>12092</th>\n",
       "      <td>2016-12-06 13:45:54+00:00</td>\n",
       "      <td>5</td>\n",
       "      <td>Very Good</td>\n",
       "      <td>Android</td>\n",
       "    </tr>\n",
       "    <tr>\n",
       "      <th>12091</th>\n",
       "      <td>2016-12-06 14:26:06+00:00</td>\n",
       "      <td>5</td>\n",
       "      <td>Excellent App</td>\n",
       "      <td>Android</td>\n",
       "    </tr>\n",
       "    <tr>\n",
       "      <th>12006</th>\n",
       "      <td>2017-02-04 13:36:19+00:00</td>\n",
       "      <td>5</td>\n",
       "      <td>Amazing!!!</td>\n",
       "      <td>Android</td>\n",
       "    </tr>\n",
       "    <tr>\n",
       "      <th>11915</th>\n",
       "      <td>2017-04-11 16:46:36+00:00</td>\n",
       "      <td>5</td>\n",
       "      <td>Awesome!</td>\n",
       "      <td>Android</td>\n",
       "    </tr>\n",
       "    <tr>\n",
       "      <th>11892</th>\n",
       "      <td>2017-04-24 10:48:35+00:00</td>\n",
       "      <td>5</td>\n",
       "      <td>Fantastic!</td>\n",
       "      <td>Android</td>\n",
       "    </tr>\n",
       "    <tr>\n",
       "      <th>11883</th>\n",
       "      <td>2017-05-02 10:29:17+00:00</td>\n",
       "      <td>5</td>\n",
       "      <td>Class</td>\n",
       "      <td>Android</td>\n",
       "    </tr>\n",
       "    <tr>\n",
       "      <th>11854</th>\n",
       "      <td>2017-05-22 19:43:29+00:00</td>\n",
       "      <td>5</td>\n",
       "      <td>Great app!</td>\n",
       "      <td>Android</td>\n",
       "    </tr>\n",
       "  </tbody>\n",
       "</table>\n",
       "</div>"
      ]
     },
     "metadata": {},
     "output_type": "display_data"
    }
   ],
   "execution_count": 5
  },
  {
   "metadata": {
    "ExecuteTime": {
     "end_time": "2025-10-05T21:22:21.911427Z",
     "start_time": "2025-10-05T21:22:20.791667Z"
    }
   },
   "cell_type": "code",
   "source": [
    "# ------------------------------------------------------------\n",
    "# 4. Duplicate Classification & Safe Export\n",
    "# ------------------------------------------------------------\n",
    "# Find all duplicate text entries\n",
    "dupes = monzo_df[monzo_df[\"review_text\"].duplicated(keep=False)].copy()\n",
    "print(f\"🔎 Found {len(dupes)} potential duplicate reviews.\")\n",
    "\n",
    "# Tagging duplicate categories\n",
    "dupes[\"dup_type\"] = \"Other\"\n",
    "\n",
    "# Same text & same platform\n",
    "dupes.loc[\n",
    "    dupes.duplicated(subset=[\"review_text\", \"platform\"], keep=False),\n",
    "    \"dup_type\"\n",
    "] = \"Same platform\"\n",
    "\n",
    "# Same text but different platform\n",
    "cross_platform_dupes = (\n",
    "    dupes.groupby(\"review_text\")[\"platform\"].nunique().reset_index()\n",
    ")\n",
    "cross_platform_texts = cross_platform_dupes.loc[\n",
    "    cross_platform_dupes[\"platform\"] > 1, \"review_text\"\n",
    "]\n",
    "dupes.loc[dupes[\"review_text\"].isin(cross_platform_texts), \"dup_type\"] = \"Cross platform\"\n",
    "\n",
    "# Same text but different rating\n",
    "dupes[\"has_rating_diff\"] = dupes.duplicated(subset=[\"review_text\", \"rating\"], keep=False)\n",
    "dupes.loc[dupes[\"has_rating_diff\"], \"dup_type\"] = \"Same text diff rating\"\n",
    "\n",
    "# Same text but different date\n",
    "dupes[\"has_date_diff\"] = dupes.duplicated(subset=[\"review_text\", \"review_date\"], keep=False)\n",
    "dupes.loc[dupes[\"has_date_diff\"], \"dup_type\"] = \"Same text diff date\"\n",
    "\n",
    "# Drop helper flags\n",
    "dupes.drop(columns=[\"has_rating_diff\", \"has_date_diff\"], inplace=True)\n",
    "\n",
    "# Save for audit\n",
    "dupes.to_csv(\"../data/processed/Monzo_Duplicates_Audit.csv\", index=False)\n",
    "print(f\"💾 Saved duplicate audit log → Monzo_Duplicates_Audit.csv\")\n",
    "\n",
    "# Create filtered dataset keeping one copy per (review_text, platform, rating)\n",
    "monzo_dedup = monzo_df.drop_duplicates(subset=[\"review_text\", \"platform\", \"rating\"])\n",
    "print(f\"✅ De-duplicated working dataset: {len(monzo_dedup):,} rows\")\n",
    "\n",
    "# Save clean working dataset\n",
    "monzo_dedup.to_csv(\"../data/processed/Monzo_Reviews_Master_Dedup.csv\", index=False)\n",
    "print(\"💾 Exported cleaned dataset ready for sentiment analysis.\")\n"
   ],
   "id": "127246598ca1334a",
   "outputs": [
    {
     "name": "stdout",
     "output_type": "stream",
     "text": [
      "🔎 Found 4598 potential duplicate reviews.\n",
      "💾 Saved duplicate audit log → Monzo_Duplicates_Audit.csv\n",
      "✅ De-duplicated working dataset: 28,626 rows\n",
      "💾 Exported cleaned dataset ready for sentiment analysis.\n"
     ]
    }
   ],
   "execution_count": 6
  },
  {
   "metadata": {
    "ExecuteTime": {
     "end_time": "2025-10-05T21:31:07.507053Z",
     "start_time": "2025-10-05T21:31:06.285127Z"
    }
   },
   "cell_type": "code",
   "source": [
    "# ------------------------------------------------------------\n",
    "# Refined Duplicate Handling (Preserve Cross-User Texts)\n",
    "# ------------------------------------------------------------\n",
    "print(f\"Initial dataset: {len(monzo_df):,} rows\")\n",
    "\n",
    "# 1️⃣ Identify true duplicates (same user + same text + same platform + same rating)\n",
    "true_dupes = monzo_df[\n",
    "    monzo_df.duplicated(subset=[\"review_text\", \"author_name\", \"platform\", \"rating\"], keep=False)\n",
    "]\n",
    "\n",
    "print(f\"🔍 Found {len(true_dupes)} true duplicate rows (same user, same text, same platform).\")\n",
    "\n",
    "# 2️⃣ Save for audit\n",
    "true_dupes.to_csv(\"../data/processed/Monzo_True_Duplicates_Audit.csv\", index=False)\n",
    "print(\"💾 Saved true duplicates for audit.\")\n",
    "\n",
    "# 3️⃣ Drop only those duplicates\n",
    "monzo_clean = monzo_df.drop_duplicates(subset=[\"review_text\", \"author_name\", \"platform\", \"rating\"])\n",
    "\n",
    "print(f\"✅ Cleaned dataset shape: {monzo_clean.shape}\")\n",
    "print(f\"🔹 Rows removed: {len(monzo_df) - len(monzo_clean):,}\")\n",
    "print(f\"🔹 Rows retained: {len(monzo_clean):,}\")\n",
    "\n",
    "# 4️⃣ Export cleaned dataset\n",
    "monzo_clean.to_csv(\"../data/processed/Monzo_Reviews_Master_Cleaned.csv\", index=False)\n",
    "print(\"💾 Exported Monzo_Reviews_Master_Cleaned.csv (for sentiment pipeline).\")\n"
   ],
   "id": "5d4f340ea65f7afc",
   "outputs": [
    {
     "name": "stdout",
     "output_type": "stream",
     "text": [
      "Initial dataset: 32,222 rows\n",
      "🔍 Found 745 true duplicate rows (same user, same text, same platform).\n",
      "💾 Saved true duplicates for audit.\n",
      "✅ Cleaned dataset shape: (31625, 11)\n",
      "🔹 Rows removed: 597\n",
      "🔹 Rows retained: 31,625\n",
      "💾 Exported Monzo_Reviews_Master_Cleaned.csv (for sentiment pipeline).\n"
     ]
    }
   ],
   "execution_count": 10
  },
  {
   "metadata": {
    "ExecuteTime": {
     "end_time": "2025-10-05T21:39:20.739108Z",
     "start_time": "2025-10-05T21:39:20.212963Z"
    }
   },
   "cell_type": "code",
   "source": [
    "# ------------------------------------------------------------\n",
    "# 1. Setup & Imports\n",
    "# ------------------------------------------------------------\n",
    "\"\"\"\n",
    "Notebook: 02_sentiment_analysis.ipynb\n",
    "Author: James O. Adeshina\n",
    "Date: October 2025\n",
    "\n",
    "Objective:\n",
    "----------\n",
    "Perform sentiment scoring using VADER on cleaned Monzo review data.\n",
    "Save the output as Monzo_Sentiment_Scored.csv for data modeling and BI visualization.\n",
    "\"\"\"\n",
    "\n",
    "# === Setup ===\n",
    "nltk.download('vader_lexicon')\n",
    "print(\"📦 NLTK VADER lexicon ready.\")\n",
    "\n",
    "# === File Paths ===\n",
    "DATA_PATH = \"../data/processed/Monzo_Reviews_Master_Cleaned.csv\"\n",
    "OUTPUT_PATH = \"../data/processed/Monzo_Sentiment_Scored.csv\"\n"
   ],
   "id": "a1173378a1737651",
   "outputs": [
    {
     "name": "stdout",
     "output_type": "stream",
     "text": [
      "📦 NLTK VADER lexicon ready.\n"
     ]
    },
    {
     "name": "stderr",
     "output_type": "stream",
     "text": [
      "[nltk_data] Downloading package vader_lexicon to\n",
      "[nltk_data]     /Users/apple2015/nltk_data...\n",
      "[nltk_data]   Package vader_lexicon is already up-to-date!\n"
     ]
    }
   ],
   "execution_count": 12
  },
  {
   "metadata": {
    "ExecuteTime": {
     "end_time": "2025-10-05T21:39:37.545556Z",
     "start_time": "2025-10-05T21:39:37.063444Z"
    }
   },
   "cell_type": "code",
   "source": [
    "# ------------------------------------------------------------\n",
    "# 2. Load Cleaned Dataset\n",
    "# ------------------------------------------------------------\n",
    "\n",
    "print(\"📂 Loading cleaned Monzo review dataset...\")\n",
    "monzo_df = pd.read_csv(DATA_PATH)\n",
    "print(f\"✅ Loaded {len(monzo_df):,} reviews.\")\n",
    "print(\"Columns:\", list(monzo_df.columns))\n",
    "\n",
    "# Preview first few records\n",
    "monzo_df.head(3)\n"
   ],
   "id": "d7b0113c38c405ed",
   "outputs": [
    {
     "name": "stdout",
     "output_type": "stream",
     "text": [
      "📂 Loading cleaned Monzo review dataset...\n",
      "✅ Loaded 31,625 reviews.\n",
      "Columns: ['review_date', 'rating', 'review_title', 'review_text', 'author_name', 'app_version', 'country', 'review_language', 'developer_reply_text', 'developer_reply_date', 'platform']\n"
     ]
    },
    {
     "data": {
      "text/plain": [
       "                 review_date  rating               review_title  \\\n",
       "0  2025-10-01 06:03:52+00:00       5  Read this truthful review   \n",
       "1  2025-09-30 15:17:27+00:00       5  Cracking easy to use bank   \n",
       "2  2025-09-30 15:01:26+00:00       5             Monzo is great   \n",
       "\n",
       "                                         review_text          author_name  \\\n",
       "0  This banking app is the best for kids because ...  Thegamingmommyreviw   \n",
       "1  Don’t tend to use the perks other than get sue...               Kar3n2   \n",
       "2  The best bank I have ever use. It is honestly ...           Kira mella   \n",
       "\n",
       "  app_version country review_language developer_reply_text  \\\n",
       "0      6.46.0      gb              en                  NaN   \n",
       "1      6.46.0      gb              en                  NaN   \n",
       "2      6.46.0      gb              en                  NaN   \n",
       "\n",
       "  developer_reply_date platform  \n",
       "0                  NaN      iOS  \n",
       "1                  NaN      iOS  \n",
       "2                  NaN      iOS  "
      ],
      "text/html": [
       "<div>\n",
       "<style scoped>\n",
       "    .dataframe tbody tr th:only-of-type {\n",
       "        vertical-align: middle;\n",
       "    }\n",
       "\n",
       "    .dataframe tbody tr th {\n",
       "        vertical-align: top;\n",
       "    }\n",
       "\n",
       "    .dataframe thead th {\n",
       "        text-align: right;\n",
       "    }\n",
       "</style>\n",
       "<table border=\"1\" class=\"dataframe\">\n",
       "  <thead>\n",
       "    <tr style=\"text-align: right;\">\n",
       "      <th></th>\n",
       "      <th>review_date</th>\n",
       "      <th>rating</th>\n",
       "      <th>review_title</th>\n",
       "      <th>review_text</th>\n",
       "      <th>author_name</th>\n",
       "      <th>app_version</th>\n",
       "      <th>country</th>\n",
       "      <th>review_language</th>\n",
       "      <th>developer_reply_text</th>\n",
       "      <th>developer_reply_date</th>\n",
       "      <th>platform</th>\n",
       "    </tr>\n",
       "  </thead>\n",
       "  <tbody>\n",
       "    <tr>\n",
       "      <th>0</th>\n",
       "      <td>2025-10-01 06:03:52+00:00</td>\n",
       "      <td>5</td>\n",
       "      <td>Read this truthful review</td>\n",
       "      <td>This banking app is the best for kids because ...</td>\n",
       "      <td>Thegamingmommyreviw</td>\n",
       "      <td>6.46.0</td>\n",
       "      <td>gb</td>\n",
       "      <td>en</td>\n",
       "      <td>NaN</td>\n",
       "      <td>NaN</td>\n",
       "      <td>iOS</td>\n",
       "    </tr>\n",
       "    <tr>\n",
       "      <th>1</th>\n",
       "      <td>2025-09-30 15:17:27+00:00</td>\n",
       "      <td>5</td>\n",
       "      <td>Cracking easy to use bank</td>\n",
       "      <td>Don’t tend to use the perks other than get sue...</td>\n",
       "      <td>Kar3n2</td>\n",
       "      <td>6.46.0</td>\n",
       "      <td>gb</td>\n",
       "      <td>en</td>\n",
       "      <td>NaN</td>\n",
       "      <td>NaN</td>\n",
       "      <td>iOS</td>\n",
       "    </tr>\n",
       "    <tr>\n",
       "      <th>2</th>\n",
       "      <td>2025-09-30 15:01:26+00:00</td>\n",
       "      <td>5</td>\n",
       "      <td>Monzo is great</td>\n",
       "      <td>The best bank I have ever use. It is honestly ...</td>\n",
       "      <td>Kira mella</td>\n",
       "      <td>6.46.0</td>\n",
       "      <td>gb</td>\n",
       "      <td>en</td>\n",
       "      <td>NaN</td>\n",
       "      <td>NaN</td>\n",
       "      <td>iOS</td>\n",
       "    </tr>\n",
       "  </tbody>\n",
       "</table>\n",
       "</div>"
      ]
     },
     "execution_count": 13,
     "metadata": {},
     "output_type": "execute_result"
    }
   ],
   "execution_count": 13
  },
  {
   "metadata": {
    "ExecuteTime": {
     "end_time": "2025-10-05T21:39:44.662313Z",
     "start_time": "2025-10-05T21:39:44.651408Z"
    }
   },
   "cell_type": "code",
   "source": [
    "# ------------------------------------------------------------\n",
    "# 3. Sentiment Scoring Function\n",
    "# ------------------------------------------------------------\n",
    "\n",
    "def compute_sentiment(text_series):\n",
    "    \"\"\"\n",
    "    Compute sentiment scores using NLTK VADER.\n",
    "    Returns compound score (float) and categorical label.\n",
    "    \"\"\"\n",
    "    sia = SentimentIntensityAnalyzer()\n",
    "    scores = text_series.apply(lambda x: sia.polarity_scores(str(x))['compound'])\n",
    "\n",
    "    # Define thresholds\n",
    "    def categorize(score):\n",
    "        if score >= 0.05:\n",
    "            return 'positive'\n",
    "        elif score <= -0.05:\n",
    "            return 'negative'\n",
    "        else:\n",
    "            return 'neutral'\n",
    "\n",
    "    labels = scores.apply(categorize)\n",
    "    return scores, labels\n"
   ],
   "id": "4f5abef773b4f7dc",
   "outputs": [],
   "execution_count": 14
  },
  {
   "metadata": {
    "ExecuteTime": {
     "end_time": "2025-10-05T21:40:16.486902Z",
     "start_time": "2025-10-05T21:39:57.276682Z"
    }
   },
   "cell_type": "code",
   "source": [
    "# ------------------------------------------------------------\n",
    "# 4. Apply Sentiment Analysis\n",
    "# ------------------------------------------------------------\n",
    "\n",
    "print(\"🧠 Running sentiment analysis on review_text...\")\n",
    "monzo_df['sentiment_score'], monzo_df['sentiment_label'] = compute_sentiment(monzo_df['review_text'])\n",
    "\n",
    "# Quick overview\n",
    "sentiment_counts = monzo_df['sentiment_label'].value_counts()\n",
    "print(\"✅ Sentiment label distribution:\")\n",
    "print(sentiment_counts)\n"
   ],
   "id": "6b9e9c9dbcfb35de",
   "outputs": [
    {
     "name": "stdout",
     "output_type": "stream",
     "text": [
      "🧠 Running sentiment analysis on review_text...\n",
      "✅ Sentiment label distribution:\n",
      "sentiment_label\n",
      "positive    22297\n",
      "negative     5934\n",
      "neutral      3394\n",
      "Name: count, dtype: int64\n"
     ]
    }
   ],
   "execution_count": 15
  },
  {
   "metadata": {
    "ExecuteTime": {
     "end_time": "2025-10-05T21:40:23.681546Z",
     "start_time": "2025-10-05T21:40:23.512898Z"
    }
   },
   "cell_type": "code",
   "source": [
    "# ------------------------------------------------------------\n",
    "# 5. Summary Statistics\n",
    "# ------------------------------------------------------------\n",
    "print(\"\\n📊 Sentiment Summary by Platform:\")\n",
    "summary = monzo_df.groupby(\"platform\")[\"sentiment_score\"].agg([\"mean\", \"std\", \"count\"])\n",
    "display(summary)\n",
    "\n",
    "print(\"\\n📈 Rating vs. Sentiment Overview:\")\n",
    "corr = monzo_df[\"rating\"].corr(monzo_df[\"sentiment_score\"])\n",
    "print(f\"🔗 Correlation between rating and sentiment score: {corr:.3f}\")\n"
   ],
   "id": "b51a17db9a81a3df",
   "outputs": [
    {
     "name": "stdout",
     "output_type": "stream",
     "text": [
      "\n",
      "📊 Sentiment Summary by Platform:\n"
     ]
    },
    {
     "data": {
      "text/plain": [
       "              mean       std  count\n",
       "platform                           \n",
       "Android   0.360884  0.498473  22046\n",
       "iOS       0.367136  0.562958   9579"
      ],
      "text/html": [
       "<div>\n",
       "<style scoped>\n",
       "    .dataframe tbody tr th:only-of-type {\n",
       "        vertical-align: middle;\n",
       "    }\n",
       "\n",
       "    .dataframe tbody tr th {\n",
       "        vertical-align: top;\n",
       "    }\n",
       "\n",
       "    .dataframe thead th {\n",
       "        text-align: right;\n",
       "    }\n",
       "</style>\n",
       "<table border=\"1\" class=\"dataframe\">\n",
       "  <thead>\n",
       "    <tr style=\"text-align: right;\">\n",
       "      <th></th>\n",
       "      <th>mean</th>\n",
       "      <th>std</th>\n",
       "      <th>count</th>\n",
       "    </tr>\n",
       "    <tr>\n",
       "      <th>platform</th>\n",
       "      <th></th>\n",
       "      <th></th>\n",
       "      <th></th>\n",
       "    </tr>\n",
       "  </thead>\n",
       "  <tbody>\n",
       "    <tr>\n",
       "      <th>Android</th>\n",
       "      <td>0.360884</td>\n",
       "      <td>0.498473</td>\n",
       "      <td>22046</td>\n",
       "    </tr>\n",
       "    <tr>\n",
       "      <th>iOS</th>\n",
       "      <td>0.367136</td>\n",
       "      <td>0.562958</td>\n",
       "      <td>9579</td>\n",
       "    </tr>\n",
       "  </tbody>\n",
       "</table>\n",
       "</div>"
      ]
     },
     "metadata": {},
     "output_type": "display_data"
    },
    {
     "name": "stdout",
     "output_type": "stream",
     "text": [
      "\n",
      "📈 Rating vs. Sentiment Overview:\n",
      "🔗 Correlation between rating and sentiment score: 0.666\n"
     ]
    }
   ],
   "execution_count": 16
  },
  {
   "metadata": {
    "ExecuteTime": {
     "end_time": "2025-10-05T21:47:22.435589Z",
     "start_time": "2025-10-05T21:47:21.414880Z"
    }
   },
   "cell_type": "code",
   "source": [
    "# ------------------------------------------------------------\n",
    "# 6. Save Processed Dataset\n",
    "# ------------------------------------------------------------\n",
    "monzo_df.to_csv(OUTPUT_PATH, index=False)\n",
    "print(f\"💾 Sentiment-scored dataset saved to: {OUTPUT_PATH}\")\n",
    "print(\"✅ Ready for next phase → 03_data_model_preparation.ipynb\")\n"
   ],
   "id": "32da50ed3d61f416",
   "outputs": [
    {
     "name": "stdout",
     "output_type": "stream",
     "text": [
      "💾 Sentiment-scored dataset saved to: ../data/processed/Monzo_Sentiment_Scored.csv\n",
      "✅ Ready for next phase → 03_data_model_preparation.ipynb\n"
     ]
    }
   ],
   "execution_count": 17
  },
  {
   "metadata": {},
   "cell_type": "code",
   "outputs": [],
   "execution_count": null,
   "source": "",
   "id": "51c9c4fe5d5dc7fb"
  },
  {
   "metadata": {},
   "cell_type": "code",
   "outputs": [],
   "execution_count": null,
   "source": "",
   "id": "a8ba553a24457ad"
  },
  {
   "metadata": {},
   "cell_type": "code",
   "outputs": [],
   "execution_count": null,
   "source": "",
   "id": "7b2e2d6532602ce7"
  },
  {
   "metadata": {},
   "cell_type": "code",
   "outputs": [],
   "execution_count": null,
   "source": "",
   "id": "e1977bc3c46c3e9d"
  }
 ],
 "metadata": {
  "kernelspec": {
   "name": "python3",
   "language": "python",
   "display_name": "Python 3 (ipykernel)"
  }
 },
 "nbformat": 5,
 "nbformat_minor": 9
}
