{
 "cells": [
  {
   "metadata": {},
   "cell_type": "code",
   "outputs": [],
   "execution_count": null,
   "source": [
    "# ------------------------------------------------------------\n",
    "# 05_bigquery_validation.ipynb\n",
    "# Purpose: Validate uploaded BigQuery tables for consistency\n",
    "# ------------------------------------------------------------\n",
    "\n",
    "from google.cloud import bigquery\n",
    "import os\n",
    "import pandas as pd\n",
    "\n",
    "# ✅ Set path to your downloaded service account key (JSON)\n",
    "SERVICE_ACCOUNT_PATH = \"../credentials/monzo-data-uploader-d16b82e5caaf.json\"\n",
    "\n",
    "# ✅ Set Google project and dataset IDs\n",
    "PROJECT_ID = \"monzo-data-uploader\"\n",
    "DATASET_ID = \"monzo_reviews\"\n",
    "\n",
    "# Authenticate (locally)\n",
    "os.environ[\"GOOGLE_APPLICATION_CREDENTIALS\"] = SERVICE_ACCOUNT_PATH\n",
    "\n",
    "# Create BigQuery client\n",
    "client = bigquery.Client(project=PROJECT_ID)\n",
    "\n",
    "print(f\"✅ Connected to BigQuery project: {PROJECT_ID}\")\n"
   ],
   "id": "673423473db6673b"
  },
  {
   "metadata": {},
   "cell_type": "code",
   "outputs": [],
   "execution_count": null,
   "source": [
    "import sys\n",
    "print(sys.executable)\n",
    "!{sys.executable} -m pip install db-dtypes --upgrade --quiet\n"
   ],
   "id": "c6a5048931286292"
  },
  {
   "metadata": {},
   "cell_type": "code",
   "outputs": [],
   "execution_count": null,
   "source": [
    "# List tables inside the dataset\n",
    "tables = list(client.list_tables(f\"{PROJECT_ID}.{DATASET_ID}\"))\n",
    "print(f\"📂 Tables found in dataset '{DATASET_ID}':\")\n",
    "for t in tables:\n",
    "    print(f\" - {t.table_id}\")\n"
   ],
   "id": "1e46faec6fe8547e"
  },
  {
   "metadata": {},
   "cell_type": "code",
   "outputs": [],
   "execution_count": null,
   "source": [
    "query = f\"\"\"\n",
    "SELECT 'FactReviews' AS table_name, COUNT(*) AS row_count FROM `{PROJECT_ID}.{DATASET_ID}.FactReviews`\n",
    "UNION ALL\n",
    "SELECT 'DimPlatform', COUNT(*) AS row_count FROM `{PROJECT_ID}.{DATASET_ID}.DimPlatform`\n",
    "UNION ALL\n",
    "SELECT 'DimVersion', COUNT(*) AS row_count FROM `{PROJECT_ID}.{DATASET_ID}.DimVersion`\n",
    "UNION ALL\n",
    "SELECT 'DimDate', COUNT(*) AS row_count FROM `{PROJECT_ID}.{DATASET_ID}.DimDate`\n",
    "UNION ALL\n",
    "SELECT 'DimSentiment', COUNT(*) AS row_count FROM `{PROJECT_ID}.{DATASET_ID}.DimSentiment`\n",
    "\"\"\""
   ],
   "id": "ae0919987c169078"
  },
  {
   "metadata": {},
   "cell_type": "code",
   "outputs": [],
   "execution_count": null,
   "source": [
    "row_counts = client.query(query).to_dataframe()\n",
    "display(row_counts)\n"
   ],
   "id": "498ca1229c9a7fc8"
  },
  {
   "metadata": {},
   "cell_type": "code",
   "outputs": [],
   "execution_count": null,
   "source": [
    "query = f\"\"\"\n",
    "SELECT\n",
    "  f.platform_id,\n",
    "  p.platform,\n",
    "  COUNT(*) AS review_count\n",
    "FROM `{PROJECT_ID}.{DATASET_ID}.FactReviews` f\n",
    "LEFT JOIN `{PROJECT_ID}.{DATASET_ID}.DimPlatform` p\n",
    "  ON f.platform_id = p.platform_id\n",
    "GROUP BY 1, 2\n",
    "ORDER BY review_count DESC\n",
    "\"\"\"\n",
    "platform_check = client.query(query).to_dataframe()\n",
    "display(platform_check)\n"
   ],
   "id": "e0f778746fb77688"
  },
  {
   "metadata": {},
   "cell_type": "code",
   "outputs": [],
   "execution_count": null,
   "source": [
    "validation_query = f\"\"\"\n",
    "-- 1️⃣ Check foreign key consistency (Fact vs Dims)\n",
    "SELECT\n",
    "  'Platform Mismatch' AS issue,\n",
    "  COUNT(*) AS problem_rows\n",
    "FROM `{PROJECT_ID}.{DATASET_ID}.FactReviews` f\n",
    "LEFT JOIN `{PROJECT_ID}.{DATASET_ID}.DimPlatform` p\n",
    "  ON f.platform_id = p.platform_id\n",
    "WHERE p.platform_id IS NULL\n",
    "\n",
    "UNION ALL\n",
    "SELECT\n",
    "  'Version Mismatch',\n",
    "  COUNT(*)\n",
    "FROM `{PROJECT_ID}.{DATASET_ID}.FactReviews` f\n",
    "LEFT JOIN `{PROJECT_ID}.{DATASET_ID}.DimVersion` v\n",
    "  ON f.version_id = v.version_id\n",
    "WHERE v.version_id IS NULL\n",
    "\n",
    "UNION ALL\n",
    "SELECT\n",
    "  'Date Mismatch',\n",
    "  COUNT(*)\n",
    "FROM `{PROJECT_ID}.{DATASET_ID}.FactReviews` f\n",
    "LEFT JOIN `{PROJECT_ID}.{DATASET_ID}.DimDate` d\n",
    "  ON f.date_id = d.date_id\n",
    "WHERE d.date_id IS NULL\n",
    "\n",
    "UNION ALL\n",
    "SELECT\n",
    "  'Sentiment Mismatch',\n",
    "  COUNT(*)\n",
    "FROM `{PROJECT_ID}.{DATASET_ID}.FactReviews` f\n",
    "LEFT JOIN `{PROJECT_ID}.{DATASET_ID}.DimSentiment` s\n",
    "  ON f.sentiment_id = s.sentiment_id\n",
    "WHERE s.sentiment_id IS NULL;\n",
    "\"\"\"\n",
    "\n",
    "validation_results = client.query(validation_query).to_dataframe()\n",
    "display(validation_results)\n"
   ],
   "id": "e44618344cd0e5cf"
  },
  {
   "metadata": {},
   "cell_type": "code",
   "outputs": [],
   "execution_count": null,
   "source": "",
   "id": "f093b20ec6a3ba19"
  }
 ],
 "metadata": {},
 "nbformat": 5,
 "nbformat_minor": 9
}
